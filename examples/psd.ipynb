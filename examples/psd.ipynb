{
 "cells": [
  {
   "cell_type": "code",
   "execution_count": 1,
   "metadata": {},
   "outputs": [],
   "source": [
    "import sys\n",
    "import numpy as np\n",
    "sys.path.append('/home/marco/Projects/Doctorado/biosip_tools/')\n",
    "from biosip_tools.eeg import utils\n",
    "from biosip_tools.eeg import timeseries    \n"
   ]
  },
  {
   "cell_type": "code",
   "execution_count": 2,
   "metadata": {},
   "outputs": [
    {
     "name": "stdout",
     "output_type": "stream",
     "text": [
      "-88.353 46.56100000000001 -13.339764793608522 12.356459270702892\n",
      "0.0 1.0 0.5000395033049845 0.16511415125451712\n"
     ]
    }
   ],
   "source": [
    "eeg20 = timeseries.EEGSeries(path=\"/home/marco/data/eeg_data/EEG_7_20_C.npy\", subjects_info=\"/home/marco/data/eeg_data/subjects_order_20_C.txt\")\n",
    "print(eeg20.data[0,0].min(), eeg20.data[0,0].max(), eeg20.data[0,0].mean(), eeg20.data[0,0].std())\n",
    "eeg20 = eeg20.clip_and_normalize()\n",
    "print(eeg20.data[0,0].min(), eeg20.data[0,0].max(), eeg20.data[0,0].mean(), eeg20.data[0,0].std())"
   ]
  },
  {
   "cell_type": "code",
   "execution_count": 71,
   "metadata": {},
   "outputs": [
    {
     "name": "stdout",
     "output_type": "stream",
     "text": [
      "-88.353 46.56100000000001 -13.339764793608522 12.356459270702892\n",
      "0.0 1.0 0.5000395033049845 0.16511415125451712\n"
     ]
    }
   ],
   "source": [
    "eeg20 = timeseries.EEGSeries(path=\"/home/marco/data/eeg_data/EEG_7_20_C.npy\", subjects_info=\"/home/marco/data/eeg_data/subjects_order_20_C.txt\")\n",
    "print(eeg20.data[0,0].min(), eeg20.data[0,0].max(), eeg20.data[0,0].mean(), eeg20.data[0,0].std())\n",
    "\n",
    "p = eeg20.data.reshape(-1, eeg20.data.shape[-1])\n",
    "\n",
    "for index, x in enumerate(p):\n",
    "    m = np.mean(x)\n",
    "    s = np.std(x)\n",
    "    p[index] = np.clip(x, m - 3 * s, m + 3 * s)\n",
    "    p[index] = (p[index] - p[index].min()) / (p[index].max() - p[index].min())\n",
    "print(eeg20.data[0,0].min(), eeg20.data[0,0].max(), eeg20.data[0,0].mean(), eeg20.data[0,0].std())\n"
   ]
  },
  {
   "cell_type": "code",
   "execution_count": null,
   "metadata": {},
   "outputs": [],
   "source": []
  }
 ],
 "metadata": {
  "interpreter": {
   "hash": "11d5cc76d03237690f4b2342df20320c0128377befb88323f118dbd3619604da"
  },
  "kernelspec": {
   "display_name": "Python 3.10.2 ('ml')",
   "language": "python",
   "name": "python3"
  },
  "language_info": {
   "codemirror_mode": {
    "name": "ipython",
    "version": 3
   },
   "file_extension": ".py",
   "mimetype": "text/x-python",
   "name": "python",
   "nbconvert_exporter": "python",
   "pygments_lexer": "ipython3",
   "version": "3.10.10"
  },
  "orig_nbformat": 4
 },
 "nbformat": 4,
 "nbformat_minor": 2
}
